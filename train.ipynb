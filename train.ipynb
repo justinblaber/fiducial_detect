{
 "cells": [
  {
   "cell_type": "markdown",
   "metadata": {
    "ExecuteTime": {
     "end_time": "2020-03-08T01:25:27.513149Z",
     "start_time": "2020-03-08T01:25:27.511213Z"
    }
   },
   "source": [
    "# Import"
   ]
  },
  {
   "cell_type": "code",
   "execution_count": 1,
   "metadata": {
    "ExecuteTime": {
     "end_time": "2020-03-10T12:47:30.038505Z",
     "start_time": "2020-03-10T12:47:29.240439Z"
    }
   },
   "outputs": [],
   "source": [
    "import types\n",
    "from itertools import islice\n",
    "from pathlib import Path\n",
    "\n",
    "import matplotlib.pyplot as plt\n",
    "import numpy as np\n",
    "import pandas as pd\n",
    "import torch\n",
    "import torch.nn as nn\n",
    "import torch.optim as optim\n",
    "from IPython.core.debugger import set_trace\n",
    "from PIL import Image\n",
    "from torch.utils.data import DataLoader\n",
    "\n",
    "from fiducial_detect.data import *\n",
    "from fiducial_detect.models import *"
   ]
  },
  {
   "cell_type": "markdown",
   "metadata": {},
   "source": [
    "# Utility"
   ]
  },
  {
   "cell_type": "code",
   "execution_count": 2,
   "metadata": {
    "ExecuteTime": {
     "end_time": "2020-03-10T12:47:30.044030Z",
     "start_time": "2020-03-10T12:47:30.040039Z"
    }
   },
   "outputs": [],
   "source": [
    "def save_checkpoint(model, optimizer, metrics, file_checkpoint):\n",
    "    torch.save({'model': model.state_dict(),\n",
    "                'optimizer': optimizer.state_dict(),\n",
    "                'metrics': metrics},\n",
    "               file_checkpoint)"
   ]
  },
  {
   "cell_type": "code",
   "execution_count": 3,
   "metadata": {
    "ExecuteTime": {
     "end_time": "2020-03-10T12:47:30.060654Z",
     "start_time": "2020-03-10T12:47:30.045589Z"
    }
   },
   "outputs": [],
   "source": [
    "def load_checkpoint(model, optimizer, file_checkpoint):\n",
    "    checkpoint = torch.load(file_checkpoint)\n",
    "    model.load_state_dict(checkpoint['state_dict'])\n",
    "    optimizer.load_state_dict(checkpoint['optimizer'])\n",
    "    metrics = checkpoint['metrics']\n",
    "    return model, optimizer, metrics"
   ]
  },
  {
   "cell_type": "code",
   "execution_count": 4,
   "metadata": {
    "ExecuteTime": {
     "end_time": "2020-03-10T12:47:30.073625Z",
     "start_time": "2020-03-10T12:47:30.063802Z"
    }
   },
   "outputs": [],
   "source": [
    "def train(model, dl, loss, metrics, optimizer, device):\n",
    "    m, total_items = dict.fromkeys(metrics.keys(), 0), 0\n",
    "    \n",
    "    # Train for an epoch\n",
    "    model.train()\n",
    "    for X, y in dl:\n",
    "        X, y = X.to(device), y.to(device)\n",
    "        \n",
    "        # Optimize\n",
    "        optimizer.zero_grad()\n",
    "        y_hat = model(X)\n",
    "        l = loss(y_hat, y)\n",
    "        l.backward()\n",
    "        optimizer.step()\n",
    "        \n",
    "        # Get metrics scaled by batch size\n",
    "        for key, metric in metrics.items():\n",
    "            m[key] += metric(y_hat, y)*X.shape[0] # Scale by batch size\n",
    "           \n",
    "        # Track total number of items\n",
    "        total_items += X.shape[0]\n",
    "        \n",
    "    # Get mean of metrics\n",
    "    for key, metric in metrics.items():\n",
    "        m[key] /= total_items\n",
    "        \n",
    "    return m"
   ]
  },
  {
   "cell_type": "code",
   "execution_count": 5,
   "metadata": {
    "ExecuteTime": {
     "end_time": "2020-03-10T12:47:30.081017Z",
     "start_time": "2020-03-10T12:47:30.075840Z"
    }
   },
   "outputs": [],
   "source": [
    "def validate(model, dl, loss, metrics, optimizer, device):\n",
    "    m, total_items = dict.fromkeys(metrics.keys(), 0), 0\n",
    "    \n",
    "    # Validate\n",
    "    model.eval()\n",
    "    with torch.no_grad():\n",
    "        for X, y in dl:\n",
    "            X, y = X.to(device), y.to(device)\n",
    "\n",
    "            y_hat = model(X)\n",
    "\n",
    "            # Get metrics scaled by batch size\n",
    "            for key, metric in metrics.items():\n",
    "                m[key] += metric(y_hat, y)*X.shape[0] # Scale by batch size\n",
    "\n",
    "            # Track total number of items\n",
    "            total_items += X.shape[0]\n",
    "\n",
    "        # Get mean of metrics\n",
    "        for key, metric in metrics.items():\n",
    "            m[key] /= total_items\n",
    "\n",
    "    return m"
   ]
  },
  {
   "cell_type": "markdown",
   "metadata": {},
   "source": [
    "# Metrics"
   ]
  },
  {
   "cell_type": "code",
   "execution_count": 6,
   "metadata": {
    "ExecuteTime": {
     "end_time": "2020-03-10T12:47:30.087307Z",
     "start_time": "2020-03-10T12:47:30.082208Z"
    }
   },
   "outputs": [],
   "source": [
    "class MetricAccuracy():\n",
    "    def __call__(self, y_hat, y):\n",
    "        return (y_hat.argmax(dim=1) == y).float().mean().item()"
   ]
  },
  {
   "cell_type": "markdown",
   "metadata": {},
   "source": [
    "# Train"
   ]
  },
  {
   "cell_type": "code",
   "execution_count": 7,
   "metadata": {
    "ExecuteTime": {
     "end_time": "2020-03-10T12:47:34.130087Z",
     "start_time": "2020-03-10T12:47:30.090583Z"
    }
   },
   "outputs": [],
   "source": [
    "# Config\n",
    "batch_size = 32\n",
    "num_workers = 4\n",
    "pin_memory = True\n",
    "num_batches = 20\n",
    "num_epochs = 200\n",
    "lr = 1e-3\n",
    "schedule = False\n",
    "\n",
    "# Device\n",
    "device = torch.device('cuda')\n",
    "\n",
    "# Loss\n",
    "loss = nn.functional.cross_entropy\n",
    "\n",
    "# Metrics\n",
    "metrics = {}\n",
    "metrics['loss'] = lambda y_hat, y: loss(y_hat, y).item()\n",
    "metrics['acc'] = MetricAccuracy()\n",
    "\n",
    "# Model\n",
    "layout_encoder = [[ 1, 32, 5, 2, 2],\n",
    "                  [32, 32, 3, 2, 1],\n",
    "                  [32, 32, 3, 2, 1],\n",
    "                  [32, 32, 3, 2, 1]]\n",
    "model = UNET(get_encoder(layout_encoder), 5)\n",
    "model = model.to(device)\n",
    "\n",
    "# Optimizer\n",
    "optimizer = optim.Adam(model.parameters(), lr=lr)\n",
    "\n",
    "# Scheduler\n",
    "scheduler = optim.lr_scheduler.ReduceLROnPlateau(optimizer)"
   ]
  },
  {
   "cell_type": "code",
   "execution_count": 8,
   "metadata": {
    "ExecuteTime": {
     "end_time": "2020-03-10T12:47:37.106812Z",
     "start_time": "2020-03-10T12:47:34.131478Z"
    }
   },
   "outputs": [],
   "source": [
    "tfms_trn = Compose([Resize((512, 384)), \n",
    "                    Normalize((0, 1), (-1, 1)),\n",
    "                    RandomContrast((0.5, 1.5), 1, 0.5),\n",
    "                    RandomBrightness((-1.0, 0.5), -0.25, 0.5),\n",
    "                    RandomBlur((0, 1.5), 0.75, 0.5),\n",
    "                    Noise((-0.1, 0.1), 0, 0.1),\n",
    "                    RandomGrad((-0.5, 0.5)),\n",
    "                    Clip((-1,1)),\n",
    "                    ToTensor()])\n",
    "\n",
    "dl_trn = IsliceDataloader(num_batches,\n",
    "                          SyntheticMaskDataSet(tfms=tfms_trn), \n",
    "                          batch_size=batch_size,\n",
    "                          num_workers=num_workers,\n",
    "                          pin_memory=pin_memory, \n",
    "                          worker_init_fn=lambda wid: np.random.seed(np.mod(torch.initial_seed() + wid, 2**32)))"
   ]
  },
  {
   "cell_type": "code",
   "execution_count": 9,
   "metadata": {
    "ExecuteTime": {
     "end_time": "2020-03-10T12:47:37.111618Z",
     "start_time": "2020-03-10T12:47:37.107824Z"
    }
   },
   "outputs": [],
   "source": [
    "tfms_val = Compose([Resize((512, 384)), \n",
    "                    Normalize((0, 1), (-1, 1)),\n",
    "                    ToTensor()])\n",
    "\n",
    "dl_val = DataLoader(RealMaskDataSet(Path('data'), tfms=tfms_val), \n",
    "                    batch_size=batch_size,\n",
    "                    num_workers=num_workers,\n",
    "                    pin_memory=pin_memory, \n",
    "                    worker_init_fn=lambda wid: np.random.seed(np.mod(torch.initial_seed() + wid, 2**32)))"
   ]
  },
  {
   "cell_type": "code",
   "execution_count": 10,
   "metadata": {
    "ExecuteTime": {
     "end_time": "2020-03-10T17:15:16.810846Z",
     "start_time": "2020-03-10T12:47:37.112616Z"
    },
    "scrolled": false
   },
   "outputs": [
    {
     "data": {
      "application/javascript": [
       "/* Put everything inside the global mpl namespace */\n",
       "window.mpl = {};\n",
       "\n",
       "\n",
       "mpl.get_websocket_type = function() {\n",
       "    if (typeof(WebSocket) !== 'undefined') {\n",
       "        return WebSocket;\n",
       "    } else if (typeof(MozWebSocket) !== 'undefined') {\n",
       "        return MozWebSocket;\n",
       "    } else {\n",
       "        alert('Your browser does not have WebSocket support. ' +\n",
       "              'Please try Chrome, Safari or Firefox ≥ 6. ' +\n",
       "              'Firefox 4 and 5 are also supported but you ' +\n",
       "              'have to enable WebSockets in about:config.');\n",
       "    };\n",
       "}\n",
       "\n",
       "mpl.figure = function(figure_id, websocket, ondownload, parent_element) {\n",
       "    this.id = figure_id;\n",
       "\n",
       "    this.ws = websocket;\n",
       "\n",
       "    this.supports_binary = (this.ws.binaryType != undefined);\n",
       "\n",
       "    if (!this.supports_binary) {\n",
       "        var warnings = document.getElementById(\"mpl-warnings\");\n",
       "        if (warnings) {\n",
       "            warnings.style.display = 'block';\n",
       "            warnings.textContent = (\n",
       "                \"This browser does not support binary websocket messages. \" +\n",
       "                    \"Performance may be slow.\");\n",
       "        }\n",
       "    }\n",
       "\n",
       "    this.imageObj = new Image();\n",
       "\n",
       "    this.context = undefined;\n",
       "    this.message = undefined;\n",
       "    this.canvas = undefined;\n",
       "    this.rubberband_canvas = undefined;\n",
       "    this.rubberband_context = undefined;\n",
       "    this.format_dropdown = undefined;\n",
       "\n",
       "    this.image_mode = 'full';\n",
       "\n",
       "    this.root = $('<div/>');\n",
       "    this._root_extra_style(this.root)\n",
       "    this.root.attr('style', 'display: inline-block');\n",
       "\n",
       "    $(parent_element).append(this.root);\n",
       "\n",
       "    this._init_header(this);\n",
       "    this._init_canvas(this);\n",
       "    this._init_toolbar(this);\n",
       "\n",
       "    var fig = this;\n",
       "\n",
       "    this.waiting = false;\n",
       "\n",
       "    this.ws.onopen =  function () {\n",
       "            fig.send_message(\"supports_binary\", {value: fig.supports_binary});\n",
       "            fig.send_message(\"send_image_mode\", {});\n",
       "            if (mpl.ratio != 1) {\n",
       "                fig.send_message(\"set_dpi_ratio\", {'dpi_ratio': mpl.ratio});\n",
       "            }\n",
       "            fig.send_message(\"refresh\", {});\n",
       "        }\n",
       "\n",
       "    this.imageObj.onload = function() {\n",
       "            if (fig.image_mode == 'full') {\n",
       "                // Full images could contain transparency (where diff images\n",
       "                // almost always do), so we need to clear the canvas so that\n",
       "                // there is no ghosting.\n",
       "                fig.context.clearRect(0, 0, fig.canvas.width, fig.canvas.height);\n",
       "            }\n",
       "            fig.context.drawImage(fig.imageObj, 0, 0);\n",
       "        };\n",
       "\n",
       "    this.imageObj.onunload = function() {\n",
       "        fig.ws.close();\n",
       "    }\n",
       "\n",
       "    this.ws.onmessage = this._make_on_message_function(this);\n",
       "\n",
       "    this.ondownload = ondownload;\n",
       "}\n",
       "\n",
       "mpl.figure.prototype._init_header = function() {\n",
       "    var titlebar = $(\n",
       "        '<div class=\"ui-dialog-titlebar ui-widget-header ui-corner-all ' +\n",
       "        'ui-helper-clearfix\"/>');\n",
       "    var titletext = $(\n",
       "        '<div class=\"ui-dialog-title\" style=\"width: 100%; ' +\n",
       "        'text-align: center; padding: 3px;\"/>');\n",
       "    titlebar.append(titletext)\n",
       "    this.root.append(titlebar);\n",
       "    this.header = titletext[0];\n",
       "}\n",
       "\n",
       "\n",
       "\n",
       "mpl.figure.prototype._canvas_extra_style = function(canvas_div) {\n",
       "\n",
       "}\n",
       "\n",
       "\n",
       "mpl.figure.prototype._root_extra_style = function(canvas_div) {\n",
       "\n",
       "}\n",
       "\n",
       "mpl.figure.prototype._init_canvas = function() {\n",
       "    var fig = this;\n",
       "\n",
       "    var canvas_div = $('<div/>');\n",
       "\n",
       "    canvas_div.attr('style', 'position: relative; clear: both; outline: 0');\n",
       "\n",
       "    function canvas_keyboard_event(event) {\n",
       "        return fig.key_event(event, event['data']);\n",
       "    }\n",
       "\n",
       "    canvas_div.keydown('key_press', canvas_keyboard_event);\n",
       "    canvas_div.keyup('key_release', canvas_keyboard_event);\n",
       "    this.canvas_div = canvas_div\n",
       "    this._canvas_extra_style(canvas_div)\n",
       "    this.root.append(canvas_div);\n",
       "\n",
       "    var canvas = $('<canvas/>');\n",
       "    canvas.addClass('mpl-canvas');\n",
       "    canvas.attr('style', \"left: 0; top: 0; z-index: 0; outline: 0\")\n",
       "\n",
       "    this.canvas = canvas[0];\n",
       "    this.context = canvas[0].getContext(\"2d\");\n",
       "\n",
       "    var backingStore = this.context.backingStorePixelRatio ||\n",
       "\tthis.context.webkitBackingStorePixelRatio ||\n",
       "\tthis.context.mozBackingStorePixelRatio ||\n",
       "\tthis.context.msBackingStorePixelRatio ||\n",
       "\tthis.context.oBackingStorePixelRatio ||\n",
       "\tthis.context.backingStorePixelRatio || 1;\n",
       "\n",
       "    mpl.ratio = (window.devicePixelRatio || 1) / backingStore;\n",
       "\n",
       "    var rubberband = $('<canvas/>');\n",
       "    rubberband.attr('style', \"position: absolute; left: 0; top: 0; z-index: 1;\")\n",
       "\n",
       "    var pass_mouse_events = true;\n",
       "\n",
       "    canvas_div.resizable({\n",
       "        start: function(event, ui) {\n",
       "            pass_mouse_events = false;\n",
       "        },\n",
       "        resize: function(event, ui) {\n",
       "            fig.request_resize(ui.size.width, ui.size.height);\n",
       "        },\n",
       "        stop: function(event, ui) {\n",
       "            pass_mouse_events = true;\n",
       "            fig.request_resize(ui.size.width, ui.size.height);\n",
       "        },\n",
       "    });\n",
       "\n",
       "    function mouse_event_fn(event) {\n",
       "        if (pass_mouse_events)\n",
       "            return fig.mouse_event(event, event['data']);\n",
       "    }\n",
       "\n",
       "    rubberband.mousedown('button_press', mouse_event_fn);\n",
       "    rubberband.mouseup('button_release', mouse_event_fn);\n",
       "    // Throttle sequential mouse events to 1 every 20ms.\n",
       "    rubberband.mousemove('motion_notify', mouse_event_fn);\n",
       "\n",
       "    rubberband.mouseenter('figure_enter', mouse_event_fn);\n",
       "    rubberband.mouseleave('figure_leave', mouse_event_fn);\n",
       "\n",
       "    canvas_div.on(\"wheel\", function (event) {\n",
       "        event = event.originalEvent;\n",
       "        event['data'] = 'scroll'\n",
       "        if (event.deltaY < 0) {\n",
       "            event.step = 1;\n",
       "        } else {\n",
       "            event.step = -1;\n",
       "        }\n",
       "        mouse_event_fn(event);\n",
       "    });\n",
       "\n",
       "    canvas_div.append(canvas);\n",
       "    canvas_div.append(rubberband);\n",
       "\n",
       "    this.rubberband = rubberband;\n",
       "    this.rubberband_canvas = rubberband[0];\n",
       "    this.rubberband_context = rubberband[0].getContext(\"2d\");\n",
       "    this.rubberband_context.strokeStyle = \"#000000\";\n",
       "\n",
       "    this._resize_canvas = function(width, height) {\n",
       "        // Keep the size of the canvas, canvas container, and rubber band\n",
       "        // canvas in synch.\n",
       "        canvas_div.css('width', width)\n",
       "        canvas_div.css('height', height)\n",
       "\n",
       "        canvas.attr('width', width * mpl.ratio);\n",
       "        canvas.attr('height', height * mpl.ratio);\n",
       "        canvas.attr('style', 'width: ' + width + 'px; height: ' + height + 'px;');\n",
       "\n",
       "        rubberband.attr('width', width);\n",
       "        rubberband.attr('height', height);\n",
       "    }\n",
       "\n",
       "    // Set the figure to an initial 600x600px, this will subsequently be updated\n",
       "    // upon first draw.\n",
       "    this._resize_canvas(600, 600);\n",
       "\n",
       "    // Disable right mouse context menu.\n",
       "    $(this.rubberband_canvas).bind(\"contextmenu\",function(e){\n",
       "        return false;\n",
       "    });\n",
       "\n",
       "    function set_focus () {\n",
       "        canvas.focus();\n",
       "        canvas_div.focus();\n",
       "    }\n",
       "\n",
       "    window.setTimeout(set_focus, 100);\n",
       "}\n",
       "\n",
       "mpl.figure.prototype._init_toolbar = function() {\n",
       "    var fig = this;\n",
       "\n",
       "    var nav_element = $('<div/>');\n",
       "    nav_element.attr('style', 'width: 100%');\n",
       "    this.root.append(nav_element);\n",
       "\n",
       "    // Define a callback function for later on.\n",
       "    function toolbar_event(event) {\n",
       "        return fig.toolbar_button_onclick(event['data']);\n",
       "    }\n",
       "    function toolbar_mouse_event(event) {\n",
       "        return fig.toolbar_button_onmouseover(event['data']);\n",
       "    }\n",
       "\n",
       "    for(var toolbar_ind in mpl.toolbar_items) {\n",
       "        var name = mpl.toolbar_items[toolbar_ind][0];\n",
       "        var tooltip = mpl.toolbar_items[toolbar_ind][1];\n",
       "        var image = mpl.toolbar_items[toolbar_ind][2];\n",
       "        var method_name = mpl.toolbar_items[toolbar_ind][3];\n",
       "\n",
       "        if (!name) {\n",
       "            // put a spacer in here.\n",
       "            continue;\n",
       "        }\n",
       "        var button = $('<button/>');\n",
       "        button.addClass('ui-button ui-widget ui-state-default ui-corner-all ' +\n",
       "                        'ui-button-icon-only');\n",
       "        button.attr('role', 'button');\n",
       "        button.attr('aria-disabled', 'false');\n",
       "        button.click(method_name, toolbar_event);\n",
       "        button.mouseover(tooltip, toolbar_mouse_event);\n",
       "\n",
       "        var icon_img = $('<span/>');\n",
       "        icon_img.addClass('ui-button-icon-primary ui-icon');\n",
       "        icon_img.addClass(image);\n",
       "        icon_img.addClass('ui-corner-all');\n",
       "\n",
       "        var tooltip_span = $('<span/>');\n",
       "        tooltip_span.addClass('ui-button-text');\n",
       "        tooltip_span.html(tooltip);\n",
       "\n",
       "        button.append(icon_img);\n",
       "        button.append(tooltip_span);\n",
       "\n",
       "        nav_element.append(button);\n",
       "    }\n",
       "\n",
       "    var fmt_picker_span = $('<span/>');\n",
       "\n",
       "    var fmt_picker = $('<select/>');\n",
       "    fmt_picker.addClass('mpl-toolbar-option ui-widget ui-widget-content');\n",
       "    fmt_picker_span.append(fmt_picker);\n",
       "    nav_element.append(fmt_picker_span);\n",
       "    this.format_dropdown = fmt_picker[0];\n",
       "\n",
       "    for (var ind in mpl.extensions) {\n",
       "        var fmt = mpl.extensions[ind];\n",
       "        var option = $(\n",
       "            '<option/>', {selected: fmt === mpl.default_extension}).html(fmt);\n",
       "        fmt_picker.append(option);\n",
       "    }\n",
       "\n",
       "    // Add hover states to the ui-buttons\n",
       "    $( \".ui-button\" ).hover(\n",
       "        function() { $(this).addClass(\"ui-state-hover\");},\n",
       "        function() { $(this).removeClass(\"ui-state-hover\");}\n",
       "    );\n",
       "\n",
       "    var status_bar = $('<span class=\"mpl-message\"/>');\n",
       "    nav_element.append(status_bar);\n",
       "    this.message = status_bar[0];\n",
       "}\n",
       "\n",
       "mpl.figure.prototype.request_resize = function(x_pixels, y_pixels) {\n",
       "    // Request matplotlib to resize the figure. Matplotlib will then trigger a resize in the client,\n",
       "    // which will in turn request a refresh of the image.\n",
       "    this.send_message('resize', {'width': x_pixels, 'height': y_pixels});\n",
       "}\n",
       "\n",
       "mpl.figure.prototype.send_message = function(type, properties) {\n",
       "    properties['type'] = type;\n",
       "    properties['figure_id'] = this.id;\n",
       "    this.ws.send(JSON.stringify(properties));\n",
       "}\n",
       "\n",
       "mpl.figure.prototype.send_draw_message = function() {\n",
       "    if (!this.waiting) {\n",
       "        this.waiting = true;\n",
       "        this.ws.send(JSON.stringify({type: \"draw\", figure_id: this.id}));\n",
       "    }\n",
       "}\n",
       "\n",
       "\n",
       "mpl.figure.prototype.handle_save = function(fig, msg) {\n",
       "    var format_dropdown = fig.format_dropdown;\n",
       "    var format = format_dropdown.options[format_dropdown.selectedIndex].value;\n",
       "    fig.ondownload(fig, format);\n",
       "}\n",
       "\n",
       "\n",
       "mpl.figure.prototype.handle_resize = function(fig, msg) {\n",
       "    var size = msg['size'];\n",
       "    if (size[0] != fig.canvas.width || size[1] != fig.canvas.height) {\n",
       "        fig._resize_canvas(size[0], size[1]);\n",
       "        fig.send_message(\"refresh\", {});\n",
       "    };\n",
       "}\n",
       "\n",
       "mpl.figure.prototype.handle_rubberband = function(fig, msg) {\n",
       "    var x0 = msg['x0'] / mpl.ratio;\n",
       "    var y0 = (fig.canvas.height - msg['y0']) / mpl.ratio;\n",
       "    var x1 = msg['x1'] / mpl.ratio;\n",
       "    var y1 = (fig.canvas.height - msg['y1']) / mpl.ratio;\n",
       "    x0 = Math.floor(x0) + 0.5;\n",
       "    y0 = Math.floor(y0) + 0.5;\n",
       "    x1 = Math.floor(x1) + 0.5;\n",
       "    y1 = Math.floor(y1) + 0.5;\n",
       "    var min_x = Math.min(x0, x1);\n",
       "    var min_y = Math.min(y0, y1);\n",
       "    var width = Math.abs(x1 - x0);\n",
       "    var height = Math.abs(y1 - y0);\n",
       "\n",
       "    fig.rubberband_context.clearRect(\n",
       "        0, 0, fig.canvas.width / mpl.ratio, fig.canvas.height / mpl.ratio);\n",
       "\n",
       "    fig.rubberband_context.strokeRect(min_x, min_y, width, height);\n",
       "}\n",
       "\n",
       "mpl.figure.prototype.handle_figure_label = function(fig, msg) {\n",
       "    // Updates the figure title.\n",
       "    fig.header.textContent = msg['label'];\n",
       "}\n",
       "\n",
       "mpl.figure.prototype.handle_cursor = function(fig, msg) {\n",
       "    var cursor = msg['cursor'];\n",
       "    switch(cursor)\n",
       "    {\n",
       "    case 0:\n",
       "        cursor = 'pointer';\n",
       "        break;\n",
       "    case 1:\n",
       "        cursor = 'default';\n",
       "        break;\n",
       "    case 2:\n",
       "        cursor = 'crosshair';\n",
       "        break;\n",
       "    case 3:\n",
       "        cursor = 'move';\n",
       "        break;\n",
       "    }\n",
       "    fig.rubberband_canvas.style.cursor = cursor;\n",
       "}\n",
       "\n",
       "mpl.figure.prototype.handle_message = function(fig, msg) {\n",
       "    fig.message.textContent = msg['message'];\n",
       "}\n",
       "\n",
       "mpl.figure.prototype.handle_draw = function(fig, msg) {\n",
       "    // Request the server to send over a new figure.\n",
       "    fig.send_draw_message();\n",
       "}\n",
       "\n",
       "mpl.figure.prototype.handle_image_mode = function(fig, msg) {\n",
       "    fig.image_mode = msg['mode'];\n",
       "}\n",
       "\n",
       "mpl.figure.prototype.updated_canvas_event = function() {\n",
       "    // Called whenever the canvas gets updated.\n",
       "    this.send_message(\"ack\", {});\n",
       "}\n",
       "\n",
       "// A function to construct a web socket function for onmessage handling.\n",
       "// Called in the figure constructor.\n",
       "mpl.figure.prototype._make_on_message_function = function(fig) {\n",
       "    return function socket_on_message(evt) {\n",
       "        if (evt.data instanceof Blob) {\n",
       "            /* FIXME: We get \"Resource interpreted as Image but\n",
       "             * transferred with MIME type text/plain:\" errors on\n",
       "             * Chrome.  But how to set the MIME type?  It doesn't seem\n",
       "             * to be part of the websocket stream */\n",
       "            evt.data.type = \"image/png\";\n",
       "\n",
       "            /* Free the memory for the previous frames */\n",
       "            if (fig.imageObj.src) {\n",
       "                (window.URL || window.webkitURL).revokeObjectURL(\n",
       "                    fig.imageObj.src);\n",
       "            }\n",
       "\n",
       "            fig.imageObj.src = (window.URL || window.webkitURL).createObjectURL(\n",
       "                evt.data);\n",
       "            fig.updated_canvas_event();\n",
       "            fig.waiting = false;\n",
       "            return;\n",
       "        }\n",
       "        else if (typeof evt.data === 'string' && evt.data.slice(0, 21) == \"data:image/png;base64\") {\n",
       "            fig.imageObj.src = evt.data;\n",
       "            fig.updated_canvas_event();\n",
       "            fig.waiting = false;\n",
       "            return;\n",
       "        }\n",
       "\n",
       "        var msg = JSON.parse(evt.data);\n",
       "        var msg_type = msg['type'];\n",
       "\n",
       "        // Call the  \"handle_{type}\" callback, which takes\n",
       "        // the figure and JSON message as its only arguments.\n",
       "        try {\n",
       "            var callback = fig[\"handle_\" + msg_type];\n",
       "        } catch (e) {\n",
       "            console.log(\"No handler for the '\" + msg_type + \"' message type: \", msg);\n",
       "            return;\n",
       "        }\n",
       "\n",
       "        if (callback) {\n",
       "            try {\n",
       "                // console.log(\"Handling '\" + msg_type + \"' message: \", msg);\n",
       "                callback(fig, msg);\n",
       "            } catch (e) {\n",
       "                console.log(\"Exception inside the 'handler_\" + msg_type + \"' callback:\", e, e.stack, msg);\n",
       "            }\n",
       "        }\n",
       "    };\n",
       "}\n",
       "\n",
       "// from http://stackoverflow.com/questions/1114465/getting-mouse-location-in-canvas\n",
       "mpl.findpos = function(e) {\n",
       "    //this section is from http://www.quirksmode.org/js/events_properties.html\n",
       "    var targ;\n",
       "    if (!e)\n",
       "        e = window.event;\n",
       "    if (e.target)\n",
       "        targ = e.target;\n",
       "    else if (e.srcElement)\n",
       "        targ = e.srcElement;\n",
       "    if (targ.nodeType == 3) // defeat Safari bug\n",
       "        targ = targ.parentNode;\n",
       "\n",
       "    // jQuery normalizes the pageX and pageY\n",
       "    // pageX,Y are the mouse positions relative to the document\n",
       "    // offset() returns the position of the element relative to the document\n",
       "    var x = e.pageX - $(targ).offset().left;\n",
       "    var y = e.pageY - $(targ).offset().top;\n",
       "\n",
       "    return {\"x\": x, \"y\": y};\n",
       "};\n",
       "\n",
       "/*\n",
       " * return a copy of an object with only non-object keys\n",
       " * we need this to avoid circular references\n",
       " * http://stackoverflow.com/a/24161582/3208463\n",
       " */\n",
       "function simpleKeys (original) {\n",
       "  return Object.keys(original).reduce(function (obj, key) {\n",
       "    if (typeof original[key] !== 'object')\n",
       "        obj[key] = original[key]\n",
       "    return obj;\n",
       "  }, {});\n",
       "}\n",
       "\n",
       "mpl.figure.prototype.mouse_event = function(event, name) {\n",
       "    var canvas_pos = mpl.findpos(event)\n",
       "\n",
       "    if (name === 'button_press')\n",
       "    {\n",
       "        this.canvas.focus();\n",
       "        this.canvas_div.focus();\n",
       "    }\n",
       "\n",
       "    var x = canvas_pos.x * mpl.ratio;\n",
       "    var y = canvas_pos.y * mpl.ratio;\n",
       "\n",
       "    this.send_message(name, {x: x, y: y, button: event.button,\n",
       "                             step: event.step,\n",
       "                             guiEvent: simpleKeys(event)});\n",
       "\n",
       "    /* This prevents the web browser from automatically changing to\n",
       "     * the text insertion cursor when the button is pressed.  We want\n",
       "     * to control all of the cursor setting manually through the\n",
       "     * 'cursor' event from matplotlib */\n",
       "    event.preventDefault();\n",
       "    return false;\n",
       "}\n",
       "\n",
       "mpl.figure.prototype._key_event_extra = function(event, name) {\n",
       "    // Handle any extra behaviour associated with a key event\n",
       "}\n",
       "\n",
       "mpl.figure.prototype.key_event = function(event, name) {\n",
       "\n",
       "    // Prevent repeat events\n",
       "    if (name == 'key_press')\n",
       "    {\n",
       "        if (event.which === this._key)\n",
       "            return;\n",
       "        else\n",
       "            this._key = event.which;\n",
       "    }\n",
       "    if (name == 'key_release')\n",
       "        this._key = null;\n",
       "\n",
       "    var value = '';\n",
       "    if (event.ctrlKey && event.which != 17)\n",
       "        value += \"ctrl+\";\n",
       "    if (event.altKey && event.which != 18)\n",
       "        value += \"alt+\";\n",
       "    if (event.shiftKey && event.which != 16)\n",
       "        value += \"shift+\";\n",
       "\n",
       "    value += 'k';\n",
       "    value += event.which.toString();\n",
       "\n",
       "    this._key_event_extra(event, name);\n",
       "\n",
       "    this.send_message(name, {key: value,\n",
       "                             guiEvent: simpleKeys(event)});\n",
       "    return false;\n",
       "}\n",
       "\n",
       "mpl.figure.prototype.toolbar_button_onclick = function(name) {\n",
       "    if (name == 'download') {\n",
       "        this.handle_save(this, null);\n",
       "    } else {\n",
       "        this.send_message(\"toolbar_button\", {name: name});\n",
       "    }\n",
       "};\n",
       "\n",
       "mpl.figure.prototype.toolbar_button_onmouseover = function(tooltip) {\n",
       "    this.message.textContent = tooltip;\n",
       "};\n",
       "mpl.toolbar_items = [[\"Home\", \"Reset original view\", \"fa fa-home icon-home\", \"home\"], [\"Back\", \"Back to previous view\", \"fa fa-arrow-left icon-arrow-left\", \"back\"], [\"Forward\", \"Forward to next view\", \"fa fa-arrow-right icon-arrow-right\", \"forward\"], [\"\", \"\", \"\", \"\"], [\"Pan\", \"Pan axes with left mouse, zoom with right\", \"fa fa-arrows icon-move\", \"pan\"], [\"Zoom\", \"Zoom to rectangle\", \"fa fa-square-o icon-check-empty\", \"zoom\"], [\"\", \"\", \"\", \"\"], [\"Download\", \"Download plot\", \"fa fa-floppy-o icon-save\", \"download\"]];\n",
       "\n",
       "mpl.extensions = [\"eps\", \"jpeg\", \"pdf\", \"png\", \"ps\", \"raw\", \"svg\", \"tif\"];\n",
       "\n",
       "mpl.default_extension = \"png\";var comm_websocket_adapter = function(comm) {\n",
       "    // Create a \"websocket\"-like object which calls the given IPython comm\n",
       "    // object with the appropriate methods. Currently this is a non binary\n",
       "    // socket, so there is still some room for performance tuning.\n",
       "    var ws = {};\n",
       "\n",
       "    ws.close = function() {\n",
       "        comm.close()\n",
       "    };\n",
       "    ws.send = function(m) {\n",
       "        //console.log('sending', m);\n",
       "        comm.send(m);\n",
       "    };\n",
       "    // Register the callback with on_msg.\n",
       "    comm.on_msg(function(msg) {\n",
       "        //console.log('receiving', msg['content']['data'], msg);\n",
       "        // Pass the mpl event to the overridden (by mpl) onmessage function.\n",
       "        ws.onmessage(msg['content']['data'])\n",
       "    });\n",
       "    return ws;\n",
       "}\n",
       "\n",
       "mpl.mpl_figure_comm = function(comm, msg) {\n",
       "    // This is the function which gets called when the mpl process\n",
       "    // starts-up an IPython Comm through the \"matplotlib\" channel.\n",
       "\n",
       "    var id = msg.content.data.id;\n",
       "    // Get hold of the div created by the display call when the Comm\n",
       "    // socket was opened in Python.\n",
       "    var element = $(\"#\" + id);\n",
       "    var ws_proxy = comm_websocket_adapter(comm)\n",
       "\n",
       "    function ondownload(figure, format) {\n",
       "        window.open(figure.imageObj.src);\n",
       "    }\n",
       "\n",
       "    var fig = new mpl.figure(id, ws_proxy,\n",
       "                           ondownload,\n",
       "                           element.get(0));\n",
       "\n",
       "    // Call onopen now - mpl needs it, as it is assuming we've passed it a real\n",
       "    // web socket which is closed, not our websocket->open comm proxy.\n",
       "    ws_proxy.onopen();\n",
       "\n",
       "    fig.parent_element = element.get(0);\n",
       "    fig.cell_info = mpl.find_output_cell(\"<div id='\" + id + \"'></div>\");\n",
       "    if (!fig.cell_info) {\n",
       "        console.error(\"Failed to find cell for figure\", id, fig);\n",
       "        return;\n",
       "    }\n",
       "\n",
       "    var output_index = fig.cell_info[2]\n",
       "    var cell = fig.cell_info[0];\n",
       "\n",
       "};\n",
       "\n",
       "mpl.figure.prototype.handle_close = function(fig, msg) {\n",
       "    var width = fig.canvas.width/mpl.ratio\n",
       "    fig.root.unbind('remove')\n",
       "\n",
       "    // Update the output cell to use the data from the current canvas.\n",
       "    fig.push_to_output();\n",
       "    var dataURL = fig.canvas.toDataURL();\n",
       "    // Re-enable the keyboard manager in IPython - without this line, in FF,\n",
       "    // the notebook keyboard shortcuts fail.\n",
       "    IPython.keyboard_manager.enable()\n",
       "    $(fig.parent_element).html('<img src=\"' + dataURL + '\" width=\"' + width + '\">');\n",
       "    fig.close_ws(fig, msg);\n",
       "}\n",
       "\n",
       "mpl.figure.prototype.close_ws = function(fig, msg){\n",
       "    fig.send_message('closing', msg);\n",
       "    // fig.ws.close()\n",
       "}\n",
       "\n",
       "mpl.figure.prototype.push_to_output = function(remove_interactive) {\n",
       "    // Turn the data on the canvas into data in the output cell.\n",
       "    var width = this.canvas.width/mpl.ratio\n",
       "    var dataURL = this.canvas.toDataURL();\n",
       "    this.cell_info[1]['text/html'] = '<img src=\"' + dataURL + '\" width=\"' + width + '\">';\n",
       "}\n",
       "\n",
       "mpl.figure.prototype.updated_canvas_event = function() {\n",
       "    // Tell IPython that the notebook contents must change.\n",
       "    IPython.notebook.set_dirty(true);\n",
       "    this.send_message(\"ack\", {});\n",
       "    var fig = this;\n",
       "    // Wait a second, then push the new image to the DOM so\n",
       "    // that it is saved nicely (might be nice to debounce this).\n",
       "    setTimeout(function () { fig.push_to_output() }, 1000);\n",
       "}\n",
       "\n",
       "mpl.figure.prototype._init_toolbar = function() {\n",
       "    var fig = this;\n",
       "\n",
       "    var nav_element = $('<div/>');\n",
       "    nav_element.attr('style', 'width: 100%');\n",
       "    this.root.append(nav_element);\n",
       "\n",
       "    // Define a callback function for later on.\n",
       "    function toolbar_event(event) {\n",
       "        return fig.toolbar_button_onclick(event['data']);\n",
       "    }\n",
       "    function toolbar_mouse_event(event) {\n",
       "        return fig.toolbar_button_onmouseover(event['data']);\n",
       "    }\n",
       "\n",
       "    for(var toolbar_ind in mpl.toolbar_items){\n",
       "        var name = mpl.toolbar_items[toolbar_ind][0];\n",
       "        var tooltip = mpl.toolbar_items[toolbar_ind][1];\n",
       "        var image = mpl.toolbar_items[toolbar_ind][2];\n",
       "        var method_name = mpl.toolbar_items[toolbar_ind][3];\n",
       "\n",
       "        if (!name) { continue; };\n",
       "\n",
       "        var button = $('<button class=\"btn btn-default\" href=\"#\" title=\"' + name + '\"><i class=\"fa ' + image + ' fa-lg\"></i></button>');\n",
       "        button.click(method_name, toolbar_event);\n",
       "        button.mouseover(tooltip, toolbar_mouse_event);\n",
       "        nav_element.append(button);\n",
       "    }\n",
       "\n",
       "    // Add the status bar.\n",
       "    var status_bar = $('<span class=\"mpl-message\" style=\"text-align:right; float: right;\"/>');\n",
       "    nav_element.append(status_bar);\n",
       "    this.message = status_bar[0];\n",
       "\n",
       "    // Add the close button to the window.\n",
       "    var buttongrp = $('<div class=\"btn-group inline pull-right\"></div>');\n",
       "    var button = $('<button class=\"btn btn-mini btn-primary\" href=\"#\" title=\"Stop Interaction\"><i class=\"fa fa-power-off icon-remove icon-large\"></i></button>');\n",
       "    button.click(function (evt) { fig.handle_close(fig, {}); } );\n",
       "    button.mouseover('Stop Interaction', toolbar_mouse_event);\n",
       "    buttongrp.append(button);\n",
       "    var titlebar = this.root.find($('.ui-dialog-titlebar'));\n",
       "    titlebar.prepend(buttongrp);\n",
       "}\n",
       "\n",
       "mpl.figure.prototype._root_extra_style = function(el){\n",
       "    var fig = this\n",
       "    el.on(\"remove\", function(){\n",
       "\tfig.close_ws(fig, {});\n",
       "    });\n",
       "}\n",
       "\n",
       "mpl.figure.prototype._canvas_extra_style = function(el){\n",
       "    // this is important to make the div 'focusable\n",
       "    el.attr('tabindex', 0)\n",
       "    // reach out to IPython and tell the keyboard manager to turn it's self\n",
       "    // off when our div gets focus\n",
       "\n",
       "    // location in version 3\n",
       "    if (IPython.notebook.keyboard_manager) {\n",
       "        IPython.notebook.keyboard_manager.register_events(el);\n",
       "    }\n",
       "    else {\n",
       "        // location in version 2\n",
       "        IPython.keyboard_manager.register_events(el);\n",
       "    }\n",
       "\n",
       "}\n",
       "\n",
       "mpl.figure.prototype._key_event_extra = function(event, name) {\n",
       "    var manager = IPython.notebook.keyboard_manager;\n",
       "    if (!manager)\n",
       "        manager = IPython.keyboard_manager;\n",
       "\n",
       "    // Check for shift+enter\n",
       "    if (event.shiftKey && event.which == 13) {\n",
       "        this.canvas_div.blur();\n",
       "        event.shiftKey = false;\n",
       "        // Send a \"J\" for go to next cell\n",
       "        event.which = 74;\n",
       "        event.keyCode = 74;\n",
       "        manager.command_mode();\n",
       "        manager.handle_keydown(event);\n",
       "    }\n",
       "}\n",
       "\n",
       "mpl.figure.prototype.handle_save = function(fig, msg) {\n",
       "    fig.ondownload(fig, null);\n",
       "}\n",
       "\n",
       "\n",
       "mpl.find_output_cell = function(html_output) {\n",
       "    // Return the cell and output element which can be found *uniquely* in the notebook.\n",
       "    // Note - this is a bit hacky, but it is done because the \"notebook_saving.Notebook\"\n",
       "    // IPython event is triggered only after the cells have been serialised, which for\n",
       "    // our purposes (turning an active figure into a static one), is too late.\n",
       "    var cells = IPython.notebook.get_cells();\n",
       "    var ncells = cells.length;\n",
       "    for (var i=0; i<ncells; i++) {\n",
       "        var cell = cells[i];\n",
       "        if (cell.cell_type === 'code'){\n",
       "            for (var j=0; j<cell.output_area.outputs.length; j++) {\n",
       "                var data = cell.output_area.outputs[j];\n",
       "                if (data.data) {\n",
       "                    // IPython >= 3 moved mimebundle to data attribute of output\n",
       "                    data = data.data;\n",
       "                }\n",
       "                if (data['text/html'] == html_output) {\n",
       "                    return [cell, data, j];\n",
       "                }\n",
       "            }\n",
       "        }\n",
       "    }\n",
       "}\n",
       "\n",
       "// Register the function which deals with the matplotlib target/channel.\n",
       "// The kernel may be null if the page has been refreshed.\n",
       "if (IPython.notebook.kernel != null) {\n",
       "    IPython.notebook.kernel.comm_manager.register_target('matplotlib', mpl.mpl_figure_comm);\n",
       "}\n"
      ],
      "text/plain": [
       "<IPython.core.display.Javascript object>"
      ]
     },
     "metadata": {},
     "output_type": "display_data"
    },
    {
     "data": {
      "text/html": [
       "<img src=\"data:image/png;base64,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\" width=\"800\">"
      ],
      "text/plain": [
       "<IPython.core.display.HTML object>"
      ]
     },
     "metadata": {},
     "output_type": "display_data"
    },
    {
     "name": "stdout",
     "output_type": "stream",
     "text": [
      "            lr   loss_trn    acc_trn   loss_val    acc_val\n",
      "0      0.00100    0.17678    0.99283    0.06499    0.99091\n",
      "1      0.00100    0.04259    0.99388    0.06124    0.99091\n",
      "2      0.00100    0.03882    0.99382    0.05569    0.99091\n",
      "3      0.00100    0.03657    0.99366    0.04932    0.99091\n",
      "4      0.00100    0.03355    0.99358    0.03990    0.99091\n",
      "5      0.00100    0.02572    0.99364    0.02964    0.99091\n",
      "6      0.00100    0.01981    0.99369    0.02325    0.99091\n",
      "7      0.00100    0.01617    0.99388    0.02102    0.99091\n",
      "8      0.00100    0.01453    0.99389    0.01965    0.99110\n",
      "9      0.00100    0.01391    0.99391    0.01896    0.99151\n",
      "10     0.00100    0.01283    0.99432    0.01871    0.99183\n",
      "11     0.00100    0.01253    0.99440    0.01813    0.99205\n",
      "12     0.00100    0.01234    0.99444    0.01831    0.99203\n",
      "13     0.00100    0.01196    0.99462    0.01786    0.99222\n",
      "14     0.00100    0.01171    0.99467    0.01775    0.99214\n",
      "15     0.00100    0.01190    0.99456    0.01788    0.99218\n",
      "16     0.00100    0.01183    0.99460    0.01818    0.99227\n",
      "17     0.00100    0.01198    0.99450    0.01803    0.99233\n",
      "18     0.00100    0.01169    0.99460    0.01744    0.99234\n",
      "19     0.00100    0.01161    0.99463    0.01752    0.99244\n",
      "20     0.00100    0.01146    0.99467    0.01735    0.99226\n",
      "21     0.00100    0.01145    0.99468    0.01777    0.99242\n",
      "22     0.00100    0.01158    0.99463    0.01761    0.99244\n",
      "23     0.00100    0.01167    0.99457    0.01746    0.99238\n",
      "24     0.00100    0.01150    0.99461    0.01749    0.99239\n",
      "25     0.00100    0.01165    0.99455    0.01742    0.99243\n",
      "26     0.00100    0.01145    0.99463    0.01733    0.99245\n",
      "27     0.00100    0.01110    0.99479    0.01742    0.99242\n",
      "28     0.00100    0.01112    0.99478    0.01700    0.99249\n",
      "29     0.00100    0.01150    0.99462    0.01700    0.99247\n",
      "30     0.00100    0.01109    0.99476    0.01708    0.99250\n",
      "31     0.00100    0.01091    0.99488    0.01697    0.99252\n",
      "32     0.00100    0.01107    0.99482    0.01703    0.99243\n",
      "33     0.00100    0.01108    0.99479    0.01710    0.99252\n",
      "34     0.00100    0.01128    0.99469    0.01720    0.99258\n",
      "35     0.00100    0.01138    0.99465    0.01697    0.99255\n",
      "36     0.00100    0.01106    0.99478    0.01692    0.99250\n",
      "37     0.00100    0.01131    0.99468    0.01671    0.99256\n",
      "38     0.00100    0.01105    0.99479    0.01694    0.99260\n",
      "39     0.00100    0.01093    0.99487    0.01690    0.99258\n",
      "40     0.00100    0.01099    0.99485    0.01711    0.99258\n",
      "41     0.00100    0.01110    0.99479    0.01674    0.99255\n",
      "42     0.00100    0.01101    0.99483    0.01727    0.99252\n",
      "43     0.00100    0.01083    0.99490    0.01725    0.99260\n",
      "44     0.00100    0.01090    0.99488    0.01678    0.99259\n",
      "45     0.00100    0.01096    0.99485    0.01651    0.99249\n",
      "46     0.00100    0.01114    0.99478    0.01667    0.99259\n",
      "47     0.00100    0.01117    0.99475    0.01734    0.99261\n",
      "48     0.00100    0.01093    0.99485    0.01722    0.99260\n",
      "49     0.00100    0.01088    0.99487    0.01664    0.99260\n",
      "50     0.00100    0.01093    0.99485    0.01697    0.99263\n",
      "51     0.00100    0.01107    0.99477    0.01687    0.99260\n",
      "52     0.00100    0.01115    0.99476    0.01704    0.99257\n",
      "53     0.00100    0.01103    0.99482    0.01704    0.99265\n",
      "54     0.00100    0.01054    0.99503    0.01652    0.99265\n",
      "55     0.00100    0.01118    0.99474    0.01723    0.99260\n",
      "56     0.00100    0.01054    0.99504    0.01728    0.99259\n",
      "57     0.00100    0.01079    0.99494    0.01705    0.99256\n",
      "58     0.00100    0.01093    0.99485    0.01675    0.99261\n",
      "59     0.00100    0.01105    0.99479    0.01670    0.99265\n",
      "60     0.00100    0.01064    0.99498    0.01741    0.99265\n",
      "61     0.00100    0.01065    0.99498    0.01740    0.99262\n",
      "62     0.00100    0.01043    0.99508    0.01785    0.99255\n",
      "63     0.00100    0.01088    0.99486    0.01938    0.99241\n",
      "64     0.00100    0.01090    0.99489    0.01642    0.99266\n",
      "65     0.00100    0.01023    0.99519    0.01674    0.99265\n",
      "66     0.00100    0.01095    0.99486    0.01758    0.99258\n",
      "67     0.00100    0.01037    0.99508    0.01646    0.99267\n",
      "68     0.00100    0.01060    0.99497    0.01725    0.99263\n",
      "69     0.00100    0.01065    0.99498    0.01732    0.99255\n",
      "70     0.00100    0.01090    0.99486    0.01688    0.99264\n",
      "71     0.00100    0.01078    0.99492    0.02031    0.99217\n",
      "72     0.00100    0.01054    0.99505    0.01715    0.99259\n",
      "73     0.00100    0.01122    0.99495    0.01602    0.99265\n",
      "74     0.00100    0.02264    0.99439    0.04823    0.99091\n",
      "75     0.00100    0.02033    0.99396    0.02136    0.99167\n",
      "76     0.00100    0.01525    0.99422    0.01911    0.99182\n",
      "77     0.00100    0.01408    0.99440    0.01795    0.99205\n",
      "78     0.00100    0.01303    0.99464    0.01748    0.99213\n",
      "79     0.00100    0.01247    0.99471    0.01722    0.99239\n",
      "80     0.00100    0.01233    0.99461    0.01710    0.99246\n",
      "81     0.00100    0.01202    0.99467    0.01688    0.99257\n",
      "82     0.00100    0.01212    0.99462    0.01678    0.99255\n",
      "83     0.00100    0.01160    0.99479    0.01676    0.99256\n",
      "84     0.00100    0.01149    0.99480    0.01704    0.99259\n",
      "85     0.00100    0.01125    0.99484    0.01680    0.99258\n",
      "86     0.00100    0.01135    0.99482    0.01673    0.99257\n",
      "87     0.00100    0.01111    0.99492    0.01682    0.99264\n",
      "88     0.00100    0.01090    0.99500    0.01686    0.99259\n",
      "89     0.00100    0.01085    0.99499    0.01682    0.99260\n",
      "90     0.00100    0.01134    0.99476    0.01695    0.99264\n",
      "91     0.00100    0.01085    0.99501    0.01771    0.99261\n",
      "92     0.00100    0.01073    0.99502    0.01699    0.99261\n",
      "93     0.00100    0.01095    0.99491    0.01681    0.99258\n",
      "94     0.00100    0.01075    0.99502    0.01800    0.99254\n",
      "95     0.00100    0.01071    0.99504    0.01697    0.99261\n",
      "96     0.00100    0.01083    0.99497    0.01647    0.99265\n",
      "97     0.00100    0.01092    0.99493    0.01664    0.99264\n",
      "98     0.00100    0.01049    0.99515    0.01693    0.99261\n",
      "99     0.00100    0.01063    0.99504    0.01766    0.99262\n",
      "100    0.00100    0.01109    0.99486    0.01770    0.99265\n",
      "101    0.00100    0.01064    0.99509    0.01738    0.99262\n",
      "102    0.00100    0.01067    0.99506    0.01710    0.99269\n",
      "103    0.00100    0.01075    0.99503    0.01704    0.99273\n",
      "104    0.00100    0.01059    0.99511    0.01714    0.99272\n",
      "105    0.00100    0.01070    0.99508    0.01683    0.99271\n",
      "106    0.00100    0.01096    0.99497    0.01675    0.99278\n",
      "107    0.00100    0.01051    0.99517    0.01641    0.99283\n",
      "108    0.00100    0.01056    0.99515    0.01643    0.99279\n",
      "109    0.00100    0.01061    0.99512    0.01687    0.99278\n",
      "110    0.00100    0.01052    0.99517    0.01723    0.99278\n",
      "111    0.00100    0.01048    0.99520    0.01686    0.99282\n",
      "112    0.00100    0.01078    0.99508    0.01633    0.99288\n",
      "113    0.00100    0.01054    0.99519    0.01728    0.99277\n",
      "114    0.00100    0.01058    0.99518    0.01741    0.99281\n",
      "115    0.00100    0.01080    0.99510    0.01708    0.99285\n",
      "116    0.00100    0.01041    0.99527    0.01699    0.99294\n",
      "117    0.00100    0.01061    0.99521    0.01685    0.99294\n",
      "118    0.00100    0.01053    0.99525    0.01758    0.99289\n",
      "119    0.00100    0.01015    0.99543    0.01654    0.99304\n",
      "120    0.00100    0.01064    0.99520    0.01666    0.99302\n",
      "121    0.00100    0.01069    0.99522    0.01749    0.99291\n",
      "122    0.00100    0.01036    0.99538    0.01585    0.99318\n",
      "123    0.00100    0.01046    0.99533    0.01651    0.99312\n",
      "124    0.00100    0.01006    0.99550    0.01669    0.99314\n",
      "125    0.00100    0.01026    0.99546    0.01710    0.99346\n",
      "126    0.00100    0.01013    0.99561    0.01816    0.99330\n",
      "127    0.00100    0.01861    0.99438    0.02665    0.99183\n",
      "128    0.00100    0.01628    0.99451    0.02272    0.99202\n",
      "129    0.00100    0.01428    0.99470    0.01763    0.99270\n",
      "130    0.00100    0.01241    0.99502    0.01678    0.99287\n",
      "131    0.00100    0.01182    0.99506    0.01641    0.99295\n",
      "132    0.00100    0.01182    0.99513    0.01639    0.99301\n",
      "133    0.00100    0.01137    0.99514    0.01620    0.99310\n",
      "134    0.00100    0.01090    0.99533    0.01604    0.99316\n",
      "135    0.00100    0.01069    0.99539    0.01605    0.99322\n",
      "136    0.00100    0.01114    0.99525    0.01588    0.99317\n",
      "137    0.00100    0.01116    0.99517    0.01573    0.99327\n"
     ]
    },
    {
     "name": "stdout",
     "output_type": "stream",
     "text": [
      "138    0.00100    0.01101    0.99524    0.01557    0.99333\n",
      "139    0.00100    0.01054    0.99546    0.01545    0.99336\n",
      "140    0.00100    0.01091    0.99528    0.01528    0.99341\n",
      "141    0.00100    0.01099    0.99527    0.01520    0.99356\n",
      "142    0.00100    0.01019    0.99563    0.01518    0.99349\n",
      "143    0.00100    0.01019    0.99562    0.01528    0.99351\n",
      "144    0.00100    0.01004    0.99571    0.01749    0.99327\n",
      "145    0.00100    0.01013    0.99569    0.01586    0.99359\n",
      "146    0.00100    0.01004    0.99579    0.01476    0.99391\n",
      "147    0.00100    0.01018    0.99573    0.01505    0.99407\n",
      "148    0.00100    0.01018    0.99576    0.01501    0.99417\n",
      "149    0.00100    0.00960    0.99603    0.01492    0.99397\n",
      "150    0.00100    0.00942    0.99613    0.01501    0.99423\n",
      "151    0.00100    0.00952    0.99616    0.01349    0.99440\n",
      "152    0.00100    0.00939    0.99620    0.01476    0.99451\n",
      "153    0.00100    0.00877    0.99651    0.01400    0.99451\n",
      "154    0.00100    0.00868    0.99657    0.01444    0.99453\n",
      "155    0.00100    0.00844    0.99667    0.01374    0.99485\n",
      "156    0.00100    0.00770    0.99695    0.01070    0.99573\n",
      "157    0.00100    0.00705    0.99707    0.01116    0.99553\n",
      "158    0.00100    0.00684    0.99711    0.01059    0.99584\n",
      "159    0.00100    0.00628    0.99735    0.01055    0.99591\n",
      "160    0.00100    0.00580    0.99758    0.00881    0.99642\n",
      "161    0.00100    0.00565    0.99763    0.00954    0.99633\n",
      "162    0.00100    0.00553    0.99766    0.00914    0.99630\n",
      "163    0.00100    0.00565    0.99762    0.00910    0.99648\n",
      "164    0.00100    0.00524    0.99779    0.00857    0.99675\n",
      "165    0.00100    0.00526    0.99780    0.00882    0.99669\n",
      "166    0.00100    0.00522    0.99786    0.00772    0.99701\n",
      "167    0.00100    0.00502    0.99792    0.00835    0.99688\n",
      "168    0.00100    0.00486    0.99800    0.00973    0.99638\n",
      "169    0.00100    0.00479    0.99801    0.00761    0.99689\n",
      "170    0.00100    0.00462    0.99812    0.00651    0.99745\n",
      "171    0.00100    0.00444    0.99823    0.00690    0.99737\n",
      "172    0.00100    0.00430    0.99831    0.00641    0.99767\n",
      "173    0.00100    0.00400    0.99843    0.00676    0.99774\n",
      "174    0.00100    0.00388    0.99849    0.00616    0.99756\n",
      "175    0.00100    0.00411    0.99833    0.00546    0.99809\n",
      "176    0.00100    0.00371    0.99860    0.00503    0.99830\n",
      "177    0.00100    0.00351    0.99869    0.00555    0.99813\n",
      "178    0.00100    0.00327    0.99877    0.00449    0.99847\n",
      "179    0.00100    0.00323    0.99879    0.00431    0.99860\n",
      "180    0.00100    0.00312    0.99881    0.00419    0.99866\n",
      "181    0.00100    0.00352    0.99864    0.00528    0.99811\n",
      "182    0.00100    0.00339    0.99869    0.00442    0.99852\n",
      "183    0.00100    0.00312    0.99884    0.00428    0.99861\n",
      "184    0.00100    0.00251    0.99910    0.00468    0.99849\n",
      "185    0.00100    0.00270    0.99899    0.00349    0.99892\n",
      "186    0.00100    0.00249    0.99909    0.00320    0.99895\n",
      "187    0.00100    0.00226    0.99918    0.00386    0.99850\n",
      "188    0.00100    0.00268    0.99899    0.00329    0.99891\n",
      "189    0.00100    0.00269    0.99895    0.00311    0.99909\n",
      "190    0.00100    0.00287    0.99887    0.00705    0.99706\n",
      "191    0.00100    0.00257    0.99902    0.00355    0.99880\n",
      "192    0.00100    0.00219    0.99920    0.00353    0.99889\n",
      "193    0.00100    0.00214    0.99921    0.00298    0.99899\n",
      "194    0.00100    0.00211    0.99923    0.00357    0.99887\n",
      "195    0.00100    0.00211    0.99922    0.00342    0.99887\n",
      "196    0.00100    0.00205    0.99923    0.00514    0.99794\n",
      "197    0.00100    0.00258    0.99903    0.00309    0.99908\n",
      "198    0.00100    0.00189    0.99931    0.00332    0.99891\n",
      "199    0.00100    0.00183    0.99934    0.00304    0.99898\n"
     ]
    }
   ],
   "source": [
    "%matplotlib notebook\n",
    "\n",
    "# Training loop\n",
    "df_metrics = pd.DataFrame(columns=['lr'] + \n",
    "                                  [str(key+'_trn') for key in metrics.keys()] +\n",
    "                                  [str(key+'_val') for key in metrics.keys()])\n",
    "fig, axs = plt.subplots(df_metrics.shape[1], 1, figsize=(8,8))\n",
    "for num_epoch in range(num_epochs):    \n",
    "    # Train\n",
    "    m_trn = train(model, dl_trn, loss, metrics, optimizer, device)\n",
    "    \n",
    "    # Validate\n",
    "    m_val = validate(model, dl_val, loss, metrics, optimizer, device)\n",
    "    \n",
    "    # Step scheduler\n",
    "    if schedule:\n",
    "        scheduler.step(m_trn['loss'])\n",
    "    \n",
    "    # Store metrics\n",
    "    df_metrics.loc[num_epoch, 'lr'] = np.mean([p['lr'] for p in optimizer.param_groups])\n",
    "    for key, val in m_trn.items(): df_metrics.loc[num_epoch, key+'_trn'] = val\n",
    "    for key, val in m_val.items(): df_metrics.loc[num_epoch, key+'_val'] = val\n",
    "\n",
    "    # Plot stuff\n",
    "    for idx, key in enumerate(df_metrics.columns):\n",
    "        axs[idx].clear()\n",
    "        axs[idx].plot(np.arange(num_epoch+1), df_metrics[key], label=key)\n",
    "        axs[idx].legend(loc='upper left')\n",
    "    fig.canvas.draw()\n",
    "    \n",
    "    # Print metrics\n",
    "    print(df_metrics.iloc[[num_epoch]].to_string(header=num_epoch == 0,\n",
    "                                                 float_format=lambda x: f'{x:10.5f}',\n",
    "                                                 col_space=3))\n",
    "    \n",
    "%matplotlib inline"
   ]
  },
  {
   "cell_type": "code",
   "execution_count": null,
   "metadata": {},
   "outputs": [],
   "source": []
  },
  {
   "cell_type": "code",
   "execution_count": null,
   "metadata": {},
   "outputs": [],
   "source": []
  },
  {
   "cell_type": "code",
   "execution_count": null,
   "metadata": {},
   "outputs": [],
   "source": []
  },
  {
   "cell_type": "code",
   "execution_count": 31,
   "metadata": {
    "ExecuteTime": {
     "end_time": "2020-03-10T22:42:34.028073Z",
     "start_time": "2020-03-10T22:42:34.004860Z"
    }
   },
   "outputs": [],
   "source": [
    "save_checkpoint(model, optimizer, df_metrics, Path('checkpoints/epoch_200.pth'))"
   ]
  },
  {
   "cell_type": "code",
   "execution_count": 140,
   "metadata": {
    "ExecuteTime": {
     "end_time": "2020-03-11T03:15:14.697066Z",
     "start_time": "2020-03-11T03:14:54.093907Z"
    }
   },
   "outputs": [],
   "source": [
    "X, y = next(iter(dl_trn))\n",
    "X, y = X.to(device), y.to(device)"
   ]
  },
  {
   "cell_type": "code",
   "execution_count": 141,
   "metadata": {
    "ExecuteTime": {
     "end_time": "2020-03-11T03:15:16.071282Z",
     "start_time": "2020-03-11T03:15:16.067438Z"
    }
   },
   "outputs": [],
   "source": [
    "model.eval()\n",
    "with torch.no_grad():\n",
    "    y_hat = model(X)"
   ]
  },
  {
   "cell_type": "code",
   "execution_count": 142,
   "metadata": {
    "ExecuteTime": {
     "end_time": "2020-03-11T03:15:17.522561Z",
     "start_time": "2020-03-11T03:15:17.520670Z"
    }
   },
   "outputs": [],
   "source": [
    "idx = 2"
   ]
  },
  {
   "cell_type": "code",
   "execution_count": 143,
   "metadata": {
    "ExecuteTime": {
     "end_time": "2020-03-11T03:15:19.006538Z",
     "start_time": "2020-03-11T03:15:18.871721Z"
    }
   },
   "outputs": [
    {
     "data": {
      "text/plain": [
       "<matplotlib.image.AxesImage at 0x7fdb8e127ac8>"
      ]
     },
     "execution_count": 143,
     "metadata": {},
     "output_type": "execute_result"
    },
    {
     "data": {
      "image/png": "[encoded data removed]",
      "text/plain": [
       "<Figure size 432x288 with 1 Axes>"
      ]
     },
     "metadata": {
      "needs_background": "light"
     },
     "output_type": "display_data"
    }
   ],
   "source": [
    "plt.imshow(X[idx,0,:,:].cpu().detach())"
   ]
  },
  {
   "cell_type": "code",
   "execution_count": 144,
   "metadata": {
    "ExecuteTime": {
     "end_time": "2020-03-11T03:15:20.622424Z",
     "start_time": "2020-03-11T03:15:20.475836Z"
    }
   },
   "outputs": [
    {
     "data": {
      "text/plain": [
       "<matplotlib.image.AxesImage at 0x7fdc456062b0>"
      ]
     },
     "execution_count": 144,
     "metadata": {},
     "output_type": "execute_result"
    },
    {
     "data": {
      "image/png": "[encoded data removed]",
      "text/plain": [
       "<Figure size 432x288 with 1 Axes>"
      ]
     },
     "metadata": {
      "needs_background": "light"
     },
     "output_type": "display_data"
    }
   ],
   "source": [
    "plt.imshow(y_hat.argmax(dim=1).cpu().detach()[idx], vmin=0, vmax=4)"
   ]
  },
  {
   "cell_type": "code",
   "execution_count": 145,
   "metadata": {
    "ExecuteTime": {
     "end_time": "2020-03-11T03:15:22.140912Z",
     "start_time": "2020-03-11T03:15:21.999377Z"
    }
   },
   "outputs": [
    {
     "data": {
      "text/plain": [
       "<matplotlib.image.AxesImage at 0x7fdbb40b77f0>"
      ]
     },
     "execution_count": 145,
     "metadata": {},
     "output_type": "execute_result"
    },
    {
     "data": {
      "image/png": "[encoded data removed]",
      "text/plain": [
       "<Figure size 432x288 with 1 Axes>"
      ]
     },
     "metadata": {
      "needs_background": "light"
     },
     "output_type": "display_data"
    }
   ],
   "source": [
    "plt.imshow(y.cpu().detach().numpy()[idx], vmin=0, vmax=4)"
   ]
  },
  {
   "cell_type": "code",
   "execution_count": 126,
   "metadata": {
    "ExecuteTime": {
     "end_time": "2020-03-11T03:14:34.225137Z",
     "start_time": "2020-03-11T03:14:34.221751Z"
    }
   },
   "outputs": [],
   "source": [
    "files_img = [p for p in Path('data').glob('*.png') if not p.name.endswith('mask.png')]"
   ]
  },
  {
   "cell_type": "code",
   "execution_count": 127,
   "metadata": {
    "ExecuteTime": {
     "end_time": "2020-03-11T03:14:34.238402Z",
     "start_time": "2020-03-11T03:14:34.226244Z"
    }
   },
   "outputs": [],
   "source": [
    "idx = 5\n",
    "img = Image.open(files_img[idx])"
   ]
  },
  {
   "cell_type": "code",
   "execution_count": 128,
   "metadata": {
    "ExecuteTime": {
     "end_time": "2020-03-11T03:14:34.313962Z",
     "start_time": "2020-03-11T03:14:34.239348Z"
    }
   },
   "outputs": [],
   "source": [
    "img = img.resize((512, 384))"
   ]
  },
  {
   "cell_type": "code",
   "execution_count": 129,
   "metadata": {
    "ExecuteTime": {
     "end_time": "2020-03-11T03:14:34.317462Z",
     "start_time": "2020-03-11T03:14:34.315125Z"
    }
   },
   "outputs": [],
   "source": [
    "img = np.array(img)"
   ]
  },
  {
   "cell_type": "code",
   "execution_count": 130,
   "metadata": {
    "ExecuteTime": {
     "end_time": "2020-03-11T03:14:34.323635Z",
     "start_time": "2020-03-11T03:14:34.318861Z"
    }
   },
   "outputs": [],
   "source": [
    "img = img.astype(np.float32)"
   ]
  },
  {
   "cell_type": "code",
   "execution_count": 131,
   "metadata": {
    "ExecuteTime": {
     "end_time": "2020-03-11T03:14:34.329608Z",
     "start_time": "2020-03-11T03:14:34.324941Z"
    }
   },
   "outputs": [],
   "source": [
    "img /= img.max()"
   ]
  },
  {
   "cell_type": "code",
   "execution_count": 132,
   "metadata": {
    "ExecuteTime": {
     "end_time": "2020-03-11T03:14:34.335181Z",
     "start_time": "2020-03-11T03:14:34.330565Z"
    }
   },
   "outputs": [],
   "source": [
    "img = normalize(img, [0, 1], [-1, 1])"
   ]
  },
  {
   "cell_type": "code",
   "execution_count": 133,
   "metadata": {
    "ExecuteTime": {
     "end_time": "2020-03-11T03:14:34.341535Z",
     "start_time": "2020-03-11T03:14:34.336031Z"
    }
   },
   "outputs": [
    {
     "data": {
      "text/plain": [
       "(-0.9928058, 1.0)"
      ]
     },
     "execution_count": 133,
     "metadata": {},
     "output_type": "execute_result"
    }
   ],
   "source": [
    "img.min(), img.max()"
   ]
  },
  {
   "cell_type": "code",
   "execution_count": 134,
   "metadata": {
    "ExecuteTime": {
     "end_time": "2020-03-11T03:14:34.558256Z",
     "start_time": "2020-03-11T03:14:34.342554Z"
    }
   },
   "outputs": [
    {
     "data": {
      "text/plain": [
       "<matplotlib.image.AxesImage at 0x7fdbb43cc080>"
      ]
     },
     "execution_count": 134,
     "metadata": {},
     "output_type": "execute_result"
    },
    {
     "data": {
      "image/png": "[encoded data removed]",
      "text/plain": [
       "<Figure size 432x288 with 1 Axes>"
      ]
     },
     "metadata": {
      "needs_background": "light"
     },
     "output_type": "display_data"
    }
   ],
   "source": [
    "plt.imshow(img, vmin=-1, vmax=1, cmap='gray')"
   ]
  },
  {
   "cell_type": "code",
   "execution_count": 135,
   "metadata": {
    "ExecuteTime": {
     "end_time": "2020-03-11T03:14:34.563390Z",
     "start_time": "2020-03-11T03:14:34.560310Z"
    }
   },
   "outputs": [
    {
     "data": {
      "text/plain": [
       "torch.Size([1, 1, 384, 512])"
      ]
     },
     "execution_count": 135,
     "metadata": {},
     "output_type": "execute_result"
    }
   ],
   "source": [
    "img = torch.tensor(img)[None][None]\n",
    "img.shape"
   ]
  },
  {
   "cell_type": "code",
   "execution_count": 136,
   "metadata": {
    "ExecuteTime": {
     "end_time": "2020-03-11T03:14:34.571286Z",
     "start_time": "2020-03-11T03:14:34.564408Z"
    }
   },
   "outputs": [],
   "source": [
    "img = img.to(device)"
   ]
  },
  {
   "cell_type": "code",
   "execution_count": 137,
   "metadata": {
    "ExecuteTime": {
     "end_time": "2020-03-11T03:14:34.578772Z",
     "start_time": "2020-03-11T03:14:34.572648Z"
    }
   },
   "outputs": [],
   "source": [
    "model.eval()\n",
    "with torch.no_grad():\n",
    "    mask = model(img)"
   ]
  },
  {
   "cell_type": "code",
   "execution_count": 138,
   "metadata": {
    "ExecuteTime": {
     "end_time": "2020-03-11T03:14:34.590159Z",
     "start_time": "2020-03-11T03:14:34.579774Z"
    }
   },
   "outputs": [],
   "source": [
    "mask = mask.argmax(dim=1).cpu().detach().numpy()[0]"
   ]
  },
  {
   "cell_type": "code",
   "execution_count": 139,
   "metadata": {
    "ExecuteTime": {
     "end_time": "2020-03-11T03:14:34.726462Z",
     "start_time": "2020-03-11T03:14:34.591490Z"
    }
   },
   "outputs": [
    {
     "data": {
      "text/plain": [
       "<matplotlib.image.AxesImage at 0x7fdbb433fc50>"
      ]
     },
     "execution_count": 139,
     "metadata": {},
     "output_type": "execute_result"
    },
    {
     "data": {
      "image/png": "[encoded data removed]",
      "text/plain": [
       "<Figure size 432x288 with 1 Axes>"
      ]
     },
     "metadata": {
      "needs_background": "light"
     },
     "output_type": "display_data"
    }
   ],
   "source": [
    "plt.imshow(mask, vmin=0, vmax=4)"
   ]
  },
  {
   "cell_type": "code",
   "execution_count": null,
   "metadata": {},
   "outputs": [],
   "source": []
  }
 ],
 "metadata": {
  "kernelspec": {
   "display_name": "Python 3",
   "language": "python",
   "name": "python3"
  },
  "language_info": {
   "codemirror_mode": {
    "name": "ipython",
    "version": 3
   },
   "file_extension": ".py",
   "mimetype": "text/x-python",
   "name": "python",
   "nbconvert_exporter": "python",
   "pygments_lexer": "ipython3",
   "version": "3.6.9"
  },
  "varInspector": {
   "cols": {
    "lenName": 16,
    "lenType": 16,
    "lenVar": 40
   },
   "kernels_config": {
    "python": {
     "delete_cmd_postfix": "",
     "delete_cmd_prefix": "del ",
     "library": "var_list.py",
     "varRefreshCmd": "print(var_dic_list())"
    },
    "r": {
     "delete_cmd_postfix": ") ",
     "delete_cmd_prefix": "rm(",
     "library": "var_list.r",
     "varRefreshCmd": "cat(var_dic_list()) "
    }
   },
   "types_to_exclude": [
    "module",
    "function",
    "builtin_function_or_method",
    "instance",
    "_Feature"
   ],
   "window_display": false
  }
 },
 "nbformat": 4,
 "nbformat_minor": 2
}
